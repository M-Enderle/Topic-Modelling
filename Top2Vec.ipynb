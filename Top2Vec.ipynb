{
 "cells": [
  {
   "cell_type": "code",
   "execution_count": 1,
   "metadata": {},
   "outputs": [],
   "source": [
    "import spacy\n",
    "import nltk\n",
    "from top2vec import Top2Vec\n",
    "import os"
   ]
  },
  {
   "cell_type": "code",
   "execution_count": 2,
   "metadata": {},
   "outputs": [],
   "source": [
    "data = {}\n",
    "documents = []\n",
    "\n",
    "for folder in os.listdir('data'):\n",
    "    for file in os.listdir('data/' + folder):\n",
    "        with open('data/' + folder + '/' + file, 'r', encoding=\"utf-8\") as f:\n",
    "            data[file] = f.read()"
   ]
  },
  {
   "cell_type": "code",
   "execution_count": null,
   "metadata": {},
   "outputs": [],
   "source": [
    "import contractions\n",
    "import re\n",
    "import spacy\n",
    "import nltk\n",
    "\n",
    "!python -m spacy download en_core_web_sm\n",
    "nlp = spacy.load(\"en_core_web_sm\")\n",
    "\n",
    "nltk.download('stopwords')\n",
    "from nltk.corpus import stopwords\n",
    "stopwords = stopwords.words('english')\n",
    "# don't remove stopwords that could impact the model\n",
    "stopwords.remove('no')\n",
    "stopwords.remove('nor')\n",
    "stopwords.remove('not')"
   ]
  },
  {
   "cell_type": "code",
   "execution_count": 9,
   "metadata": {},
   "outputs": [],
   "source": [
    "def preprocess(text):\n",
    "    text = text.lower()\n",
    "    text = re.sub('(<[\\w\\s]*/?>)', \"\", text)\n",
    "    text = contractions.fix(text)\n",
    "    text = re.sub('[^a-zA-Z0-9\\s]+', \"\", text)\n",
    "    text = re.sub('\\d+', \"\", text)\n",
    "    doc = nlp(text)\n",
    "    tokens = [token.lemma_ for token in doc if token.tag_ != 'PUNCT']\n",
    "    text = ' '.join([token for token in tokens if token not in stopwords])\n",
    "    text = re.sub('\\s+', \" \", text)\n",
    "    return text"
   ]
  },
  {
   "cell_type": "code",
   "execution_count": 10,
   "metadata": {},
   "outputs": [],
   "source": [
    "for key in data.keys():\n",
    "    data[key] = preprocess(data[key])"
   ]
  },
  {
   "cell_type": "code",
   "execution_count": 3,
   "metadata": {},
   "outputs": [
    {
     "name": "stderr",
     "output_type": "stream",
     "text": [
      "2022-10-30 10:52:32,674 - top2vec - INFO - Pre-processing documents for training\n",
      "e:\\Ebay_K\\Top2Vec\\venv\\lib\\site-packages\\sklearn\\utils\\deprecation.py:87: FutureWarning: Function get_feature_names is deprecated; get_feature_names is deprecated in 1.0 and will be removed in 1.2. Please use get_feature_names_out instead.\n",
      "  warnings.warn(msg, category=FutureWarning)\n",
      "2022-10-30 10:52:34,732 - top2vec - INFO - Downloading universal-sentence-encoder model\n",
      "2022-10-30 10:53:02,661 - top2vec - INFO - Creating joint document/word embedding\n",
      "INFO:top2vec:Creating joint document/word embedding\n",
      "2022-10-30 10:55:03,305 - top2vec - INFO - Creating lower dimension embedding of documents\n",
      "INFO:top2vec:Creating lower dimension embedding of documents\n",
      "2022-10-30 10:55:09,627 - top2vec - INFO - Finding dense areas of documents\n",
      "INFO:top2vec:Finding dense areas of documents\n",
      "2022-10-30 10:55:09,632 - top2vec - INFO - Finding topics\n",
      "INFO:top2vec:Finding topics\n"
     ]
    }
   ],
   "source": [
    "model = Top2Vec(documents=list(data.values()), speed=\"learn\", workers=12, embedding_model='universal-sentence-encoder')"
   ]
  },
  {
   "cell_type": "code",
   "execution_count": 14,
   "metadata": {},
   "outputs": [],
   "source": [
    "reduced_vectors = model.topic_vectors_reduced"
   ]
  },
  {
   "cell_type": "code",
   "execution_count": 4,
   "metadata": {},
   "outputs": [
    {
     "data": {
      "image/png": "[encoded data removed]",
      "text/plain": [
       "<Figure size 800x800 with 1 Axes>"
      ]
     },
     "metadata": {},
     "output_type": "display_data"
    }
   ],
   "source": [
    "import umap.plot\n",
    "\n",
    "umap_args_model = {\n",
    "\"n_neighbors\": 20,\n",
    "\"n_components\": 2,\n",
    "\"metric\": \"cosine\",\n",
    "'min_dist':0.10,\n",
    "'spread':1\n",
    "}\n",
    "umap_model = umap.UMAP(**umap_args_model).fit(model.document_vectors)\n",
    "umap_fig2 = umap.plot.points(umap_model, labels = model.doc_top)"
   ]
  },
  {
   "cell_type": "code",
   "execution_count": 5,
   "metadata": {},
   "outputs": [
    {
     "data": {
      "text/plain": [
       "array([['margin', 'capex', 'bullish', 'invested', 'leveraging',\n",
       "        'turnover', 'increasing', 'increases', 'improvements',\n",
       "        'dividend', 'citigroup', 'incremental', 'leverage', 'quarterly',\n",
       "        'increase', 'increased', 'cfo', 'earnings', 'profitability',\n",
       "        'llc', 'dividends', 'lifo', 'revenues', 'accounting',\n",
       "        'acquisitions', 'expanding', 'forward', 'progress',\n",
       "        'improvement', 'shareholders', 'rollout', 'asset', 'segment',\n",
       "        'metrics', 'significant', 'gaap', 'inventory', 'efficiencies',\n",
       "        'momentum', 'closing', 'impact', 'spending', 'raise', 'measure',\n",
       "        'revenue', 'largest', 'advance', 'larger', 'expansion',\n",
       "        'materially'],\n",
       "       ['bullish', 'leverage', 'growth', 'invested', 'capex',\n",
       "        'leveraging', 'margin', 'forward', 'increasing', 'citigroup',\n",
       "        'segment', 'expansion', 'expanding', 'increase', 'llc',\n",
       "        'increases', 'pharma', 'dividend', 'quarterly', 'analysts',\n",
       "        'earnings', 'uncertainties', 'analyst', 'increased', 'dividends',\n",
       "        'cfo', 'larger', 'liquidity', 'pipeline', 'incremental',\n",
       "        'turnover', 'lsag', 'component', 'lifo', 'dollar', 'boeing',\n",
       "        'advance', 'investors', 'inflationary', 'volume', 'quarter',\n",
       "        'measure', 'finance', 'ahead', 'expanded', 'impacting',\n",
       "        'bloomberg', 'investor', 'merrill', 'metrics'],\n",
       "       ['boeing', 'citigroup', 'jetblue', 'invested', 'bullish',\n",
       "        'leverage', 'margin', 'capex', 'citi', 'leveraging', 'aircraft',\n",
       "        'barclays', 'expansion', 'gaap', 'llc', 'headwind', 'impacting',\n",
       "        'efficiencies', 'airline', 'delta', 'expanded', 'jpmorgan',\n",
       "        'merrill', 'improvements', 'closing', 'increasing', 'raise',\n",
       "        'passenger', 'pipeline', 'cadence', 'forward', 'investors',\n",
       "        'increases', 'ceo', 'liquidity', 'impact', 'turnover', 'vijay',\n",
       "        'expanding', 'billion', 'dollar', 'profitability', 'increased',\n",
       "        'doug', 'lifo', 'continuing', 'asset', 'cfo', 'impacts',\n",
       "        'earnings'],\n",
       "       ['wearables', 'quarterly', 'apple', 'leveraging', 'capex',\n",
       "        'consumers', 'ios', 'bullish', 'cadence', 'ipads', 'devices',\n",
       "        'profitability', 'device', 'revenues', 'revenue', 'lifo',\n",
       "        'iphone', 'dividend', 'turnover', 'increasing', 'dividends',\n",
       "        'merger', 'trend', 'invested', 'segment', 'airpods', 'applecare',\n",
       "        'incremental', 'ipad', 'consumer', 'iphones', 'margin',\n",
       "        'billion', 'leverage', 'gaap', 'rollout', 'earnings', 'citi',\n",
       "        'expanding', 'shareholder', 'bloomberg', 'citigroup',\n",
       "        'shareholders', 'increased', 'demand', 'boeing', 'increase',\n",
       "        'asset', 'increases', 'llc']], dtype='<U13')"
      ]
     },
     "execution_count": 5,
     "metadata": {},
     "output_type": "execute_result"
    }
   ],
   "source": [
    "model.topic_words"
   ]
  },
  {
   "cell_type": "code",
   "execution_count": null,
   "metadata": {},
   "outputs": [],
   "source": []
  }
 ],
 "metadata": {
  "kernelspec": {
   "display_name": "Python 3.8.0 ('venv': venv)",
   "language": "python",
   "name": "python3"
  },
  "language_info": {
   "codemirror_mode": {
    "name": "ipython",
    "version": 3
   },
   "file_extension": ".py",
   "mimetype": "text/x-python",
   "name": "python",
   "nbconvert_exporter": "python",
   "pygments_lexer": "ipython3",
   "version": "3.8.0"
  },
  "orig_nbformat": 4,
  "vscode": {
   "interpreter": {
    "hash": "5b3fce5cf3b612c0a485e4b5968aa417265e6c5c0fb23827b4f008a6f5298cdd"
   }
  }
 },
 "nbformat": 4,
 "nbformat_minor": 2
}
